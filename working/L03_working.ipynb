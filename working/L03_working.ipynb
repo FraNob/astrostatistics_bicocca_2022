{
 "cells": [
  {
   "cell_type": "markdown",
   "metadata": {},
   "source": [
    "# Lesson 3: Probability the return"
   ]
  },
  {
   "cell_type": "markdown",
   "metadata": {},
   "source": [
    "## Exercise 1: Gaussian integral"
   ]
  },
  {
   "cell_type": "markdown",
   "metadata": {},
   "source": [
    ">Using Monte Carlo integration, check that\n",
    ">\n",
    ">$$ \\int_0^\\infty x^3 \\exp\\left(-\\frac{x^2}{2\\sigma^2}\\right) \\,dx = 2\\sigma^4 .$$\n",
    ">\n",
    ">- Does the result converge with the number of samples? And how does the error go down?\n",
    ">- Do it many times. For a given $N$, how are the result distributed? We'll talk about model fitting at lenght later on, but for now try to fit it by hand with a parametrized model. (If N is large enough you should get something that looks *very* accurate!)\n",
    ">- How does the distribution change if $N$ increases?\n",
    ">\n",
    ">(Hint: think about sample mean and sample variance)"
   ]
  },
  {
   "cell_type": "markdown",
   "metadata": {},
   "source": [
    "- The Gaussian is integrable over the $[0,+\\inf]$ interval"
   ]
  },
  {
   "cell_type": "code",
   "execution_count": null,
   "metadata": {},
   "outputs": [],
   "source": []
  }
 ],
 "metadata": {
  "kernelspec": {
   "display_name": "Python 3.8.10 64-bit",
   "language": "python",
   "name": "python3"
  },
  "language_info": {
   "name": "python",
   "version": "3.8.10"
  },
  "orig_nbformat": 4,
  "vscode": {
   "interpreter": {
    "hash": "916dbcbb3f70747c44a77c7bcd40155683ae19c65e1c03b4aa3499c5328201f1"
   }
  }
 },
 "nbformat": 4,
 "nbformat_minor": 2
}
