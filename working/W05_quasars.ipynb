{
 "cells": [
  {
   "cell_type": "markdown",
   "metadata": {},
   "source": [
    "# Exercise 5: Cloning quasars\n",
    "\n",
    "- Upsample this distribution in two ways, using both rejection sampling and inverse transform.\n",
    "- Check, at least visually, that the two cloned distribitions are indeed similar to the observed one (for a quantitative check, come back to this point in a few lectures)\n",
    "\n",
    "(Hint: `scipy.stats` is your best friend)\n",
    "\n",
    "- Think about the cosmology of quasars. How do you think they are distributed? Overplot the theorethical distribution to the measured SDSS data \n",
    "\n",
    "(Hint: `astropy.cosmology` is another close friend). The best-fit cosmological model from the Planck data is:"
   ]
  },
  {
   "cell_type": "code",
   "execution_count": 1,
   "metadata": {},
   "outputs": [
    {
     "ename": "AttributeError",
     "evalue": "module 'astropy' has no attribute 'cosmology'",
     "output_type": "error",
     "traceback": [
      "\u001b[0;31m---------------------------------------------------------------------------\u001b[0m",
      "\u001b[0;31mAttributeError\u001b[0m                            Traceback (most recent call last)",
      "\u001b[1;32m/home/fra/repos/astrostatistics_bicocca_2022/working/W05_quasars.ipynb Cell 2\u001b[0m in \u001b[0;36m<cell line: 2>\u001b[0;34m()\u001b[0m\n\u001b[1;32m      <a href='vscode-notebook-cell://wsl%2Bubuntu/home/fra/repos/astrostatistics_bicocca_2022/working/W05_quasars.ipynb#W2sdnNjb2RlLXJlbW90ZQ%3D%3D?line=0'>1</a>\u001b[0m \u001b[39mimport\u001b[39;00m \u001b[39mastropy\u001b[39;00m\n\u001b[0;32m----> <a href='vscode-notebook-cell://wsl%2Bubuntu/home/fra/repos/astrostatistics_bicocca_2022/working/W05_quasars.ipynb#W2sdnNjb2RlLXJlbW90ZQ%3D%3D?line=1'>2</a>\u001b[0m astropy\u001b[39m.\u001b[39;49mcosmology\u001b[39m.\u001b[39mPlanck15\n",
      "\u001b[0;31mAttributeError\u001b[0m: module 'astropy' has no attribute 'cosmology'"
     ]
    }
   ],
   "source": [
    "import astropy\n",
    "astropy.cosmology.Planck15"
   ]
  },
  {
   "cell_type": "markdown",
   "metadata": {},
   "source": [
    "---"
   ]
  },
  {
   "cell_type": "code",
   "execution_count": null,
   "metadata": {},
   "outputs": [],
   "source": [
    "from astroML.datasets import fetch_dr7_quasar\n",
    "\n",
    "# Fetch the quasar data\n",
    "data = fetch_dr7_quasar()\n",
    "\n",
    "# select the first 10000 points\n",
    "data = data[:10000]\n",
    "\n",
    "z = data['redshift']"
   ]
  }
 ],
 "metadata": {
  "kernelspec": {
   "display_name": "Python 3.8.10 64-bit",
   "language": "python",
   "name": "python3"
  },
  "language_info": {
   "codemirror_mode": {
    "name": "ipython",
    "version": 3
   },
   "file_extension": ".py",
   "mimetype": "text/x-python",
   "name": "python",
   "nbconvert_exporter": "python",
   "pygments_lexer": "ipython3",
   "version": "3.8.10"
  },
  "orig_nbformat": 4,
  "vscode": {
   "interpreter": {
    "hash": "916dbcbb3f70747c44a77c7bcd40155683ae19c65e1c03b4aa3499c5328201f1"
   }
  }
 },
 "nbformat": 4,
 "nbformat_minor": 2
}
