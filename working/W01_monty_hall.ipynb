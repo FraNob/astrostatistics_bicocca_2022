{
 "cells": [
  {
   "cell_type": "markdown",
   "id": "52a27938",
   "metadata": {},
   "source": [
    "# Exercise 1: Monty Hall problem"
   ]
  },
  {
   "cell_type": "markdown",
   "id": "6d286cdf",
   "metadata": {},
   "source": [
    ">- Simulate three doors, one car, and two goats.\n",
    ">- Simulate three players: the switcher, the conservative, and the newcomer. \n",
    ">- Record who wins.\n",
    ">- Repeat it many times.\n",
    ">- Which player do you want to be?\n",
    ">\n",
    ">- What would happen if you had 100 doors to choose from and the presenter opens 98 or them?\n"
   ]
  },
  {
   "cell_type": "markdown",
   "id": "2ec94014",
   "metadata": {},
   "source": [
    "- Each toy experiment is a run of the game where each player chooses randomly a door and either wins or loses\n",
    "- Repeat for 100 runs"
   ]
  },
  {
   "cell_type": "code",
   "execution_count": 4,
   "id": "722d3fe2",
   "metadata": {},
   "outputs": [],
   "source": [
    "import matplotlib.pyplot as plt\n",
    "import numpy as np\n",
    "\n",
    "np.random.seed(404)\n",
    "wins = [0,0,0] # Wins of conservative, switcher, newcomer\n",
    "N_runs = 10000\n",
    "\n",
    "for i in range(N_runs):\n",
    "    doors = [0,0,1] # 0 is goat, 1 is car\n",
    "    np.random.shuffle(doors) # Uses random.random() function\n",
    "\n",
    "    pl0 = np.random.choice([0,1,2]) #Conservative \n",
    "    pl1 = np.random.choice([0,1,2]) #Switcher\n",
    "\n",
    "    # We can already say if the conservative player won:\n",
    "    if doors[pl0] == 1 :\n",
    "        wins[0] += 1\n",
    "\n",
    "    # After a goat is showed, if the switcher has the car, he loses; if he as the goat, he wins:\n",
    "    if doors[pl1] == 0 : \n",
    "        wins[1] +=1\n",
    "\n",
    "    # After a goat is showed, there are 2 doors, one wins and the other loses, indifferently from what happened before.\n",
    "    # As it does not matter which goat we remove, we choose the first one in the list:\n",
    "    doors.remove(0)\n",
    "\n",
    "    pl2 = np.random.choice([0,1]) #Newcomer\n",
    "\n",
    "    if doors[pl2] == 1:\n",
    "        wins[2] += 1\n",
    "\n",
    "win_perc = [x/N_runs * 100 for x in wins]"
   ]
  },
  {
   "cell_type": "code",
   "execution_count": 5,
   "id": "3dca590f",
   "metadata": {},
   "outputs": [
    {
     "name": "stdout",
     "output_type": "stream",
     "text": [
      "Win percentages: \n",
      "     Conservative: 33.11 %  \n",
      "     Switcher: 66.59 %  \n",
      "     Newcomer 49.87 %\n"
     ]
    }
   ],
   "source": [
    "print('Win percentages: \\n \\\n",
    "    Conservative: %.2f %%  \\n \\\n",
    "    Switcher: %.2f %%  \\n \\\n",
    "    Newcomer %.2f %%' %tuple(win_perc))\n"
   ]
  },
  {
   "cell_type": "markdown",
   "id": "dbaf6cfd",
   "metadata": {},
   "source": [
    "- We obtain the expected probabilities."
   ]
  },
  {
   "cell_type": "markdown",
   "id": "3a137eae",
   "metadata": {},
   "source": [
    "### Generalization to N doors"
   ]
  },
  {
   "cell_type": "code",
   "execution_count": 14,
   "id": "8904f6f7",
   "metadata": {},
   "outputs": [],
   "source": [
    "import matplotlib.pyplot as plt\n",
    "import numpy as np\n",
    "\n",
    "np.random.seed(406)\n",
    "n_doors = 20\n",
    "n_open = 18\n",
    "N_runs = 100000\n",
    "\n",
    "wins = [0,0,0] # Wins of conservative, switcher, newcomer\n",
    "\n",
    "for i in range(N_runs):\n",
    "    \n",
    "    doors = np.zeros(n_doors) # 0 is goat, 1 is car\n",
    "    doors[0] += 1\n",
    "    np.random.shuffle(doors) # Uses random.random() function\n",
    "    numbers = np.array(range(n_doors)) \n",
    "    doors = doors[:,np.newaxis]\n",
    "    numbers = numbers[:,np.newaxis]\n",
    "    doors = np.concatenate((numbers,doors), axis=1) # now \"doors\" is an array of couples (every door has a label)\n",
    "\n",
    "    for i in range(n_doors): \n",
    "        if doors[i,1] == 1:\n",
    "            car = int(doors[i,0])\n",
    "\n",
    "    pl0 = np.random.choice(range(n_doors)) #Conservative \n",
    "    pl1 = np.random.choice(range(n_doors)) #Switcher\n",
    "\n",
    "\n",
    "    # We can already say if the conservative player won:\n",
    "    if doors[pl0,1] == 1 :\n",
    "        wins[0] += 1\n",
    "\n",
    "    # We need the list of doors that can be opened (we delete the door of pl1 and the door with the car)\n",
    "\n",
    "    if pl1 == car : # If the switcher has the car, he loses for sure\n",
    "        continue\n",
    "\n",
    "    if n_doors - n_open == 2 : # if the switcher does not have the car, and there is only 1 door to choose, he wins for sure\n",
    "        wins[1] += 1\n",
    "        continue\n",
    "    \n",
    "    \n",
    "    car_door = doors[car]\n",
    "    car_door = car_door[np.newaxis,:]\n",
    "    doors_new = doors\n",
    "    doors_new = np.delete(doors, (pl1,car) ,0) # Preventing player and car doors from being opened (deleted)\n",
    "  \n",
    "    for i in range(n_open):\n",
    "        doors_new = np.delete(doors_new, 0, 0) # Openening doors () deleting them from list)\n",
    "\n",
    "    doors_new = np.concatenate((doors_new, car_door))\n",
    "    door_choice = doors_new[:,0]\n",
    "\n",
    "    pl1_second = int(np.random.choice(door_choice)) #Switcher's second guess\n",
    "\n",
    "    if doors[pl1_second,1] == 1 : \n",
    "        wins[1] +=1\n",
    "\n",
    "# Cycle for Newcomer (could not insert before because of the pl1 == car control statement that prevents trying to delete the same door twice)\n",
    "\n",
    "for i in range(N_runs):\n",
    "    doors = np.zeros(n_doors) \n",
    "    doors[0] += 1\n",
    "    np.random.shuffle(doors)\n",
    "    numbers = np.array(range(n_doors)) \n",
    "    doors = doors[:,np.newaxis]\n",
    "    numbers = numbers[:,np.newaxis]\n",
    "    doors = np.concatenate((numbers,doors), axis=1) \n",
    "\n",
    "    for i in range(n_doors): \n",
    "        if doors[i,1] == 1:\n",
    "            car = int(doors[i,0])\n",
    "    \n",
    "    car_door = doors[car]\n",
    "    car_door = car_door[np.newaxis,:]\n",
    "    doors_new = doors\n",
    "    doors_new = np.delete(doors, (car) ,0) # Preventing car door from being opened (deleted)\n",
    "  \n",
    "    for i in range(n_open):\n",
    "        doors_new = np.delete(doors_new, 0, 0) # Openening doors (deleting them from list)\n",
    "\n",
    "    doors_new = np.concatenate((doors_new, car_door))\n",
    "    door_choice = doors_new[:,0]\n",
    "\n",
    "    pl2 = int(np.random.choice(door_choice)) # Newcomer guess\n",
    "\n",
    "    if doors[pl2,1] == 1 : \n",
    "        wins[2] +=1\n",
    "\n",
    "win_perc = [x/N_runs * 100 for x in wins]"
   ]
  },
  {
   "cell_type": "code",
   "execution_count": 15,
   "id": "b21c912e",
   "metadata": {},
   "outputs": [
    {
     "name": "stdout",
     "output_type": "stream",
     "text": [
      "Win percentages: \n",
      "     Conservative: 5.12 %  \n",
      "     Switcher: 95.06 %  \n",
      "     Newcomer 49.88 %\n"
     ]
    }
   ],
   "source": [
    "print('Win percentages: \\n \\\n",
    "    Conservative: %.2f %%  \\n \\\n",
    "    Switcher: %.2f %%  \\n \\\n",
    "    Newcomer %.2f %%' %tuple(win_perc))"
   ]
  },
  {
   "cell_type": "markdown",
   "id": "2ab7ccc0",
   "metadata": {},
   "source": [
    "As expected, we see the following behaviours:\n",
    "- The win frequency for the conservative player is always around 1%\n",
    "- The win frequency for the switcher becomes very high when both the number of doors and the number of opened doors increase (is around 99% when 98 out of 100 doors are opened). We expect this behaviour because when only 2 doors are left, the win probability of the switcher is 1/n_doors.\n",
    "- The win frequency for the newcomer increases with the number of opened doors and reaches a maximum at around 50% when the maximum number of doors are open (only 2 doors are left)"
   ]
  }
 ],
 "metadata": {
  "kernelspec": {
   "display_name": "Python 3.8.10 64-bit",
   "language": "python",
   "name": "python3"
  },
  "language_info": {
   "codemirror_mode": {
    "name": "ipython",
    "version": 3
   },
   "file_extension": ".py",
   "mimetype": "text/x-python",
   "name": "python",
   "nbconvert_exporter": "python",
   "pygments_lexer": "ipython3",
   "version": "3.8.10"
  },
  "vscode": {
   "interpreter": {
    "hash": "916dbcbb3f70747c44a77c7bcd40155683ae19c65e1c03b4aa3499c5328201f1"
   }
  }
 },
 "nbformat": 4,
 "nbformat_minor": 5
}
