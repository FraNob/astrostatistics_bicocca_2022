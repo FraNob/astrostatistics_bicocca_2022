{
 "cells": [
  {
   "cell_type": "markdown",
   "id": "bd7c93ef",
   "metadata": {},
   "source": [
    "# Lesson 2: Probability\n",
    "\n"
   ]
  },
  {
   "cell_type": "markdown",
   "id": "52a27938",
   "metadata": {},
   "source": [
    "## Exercise 1: Monty Hall problem"
   ]
  },
  {
   "cell_type": "markdown",
   "id": "2ec94014",
   "metadata": {},
   "source": [
    "- Each toy experiment is a run of the game where each player chooses randomly a door and either wins or loses\n",
    "- Repeat for 100 runs"
   ]
  },
  {
   "cell_type": "code",
   "execution_count": 7,
   "id": "722d3fe2",
   "metadata": {},
   "outputs": [],
   "source": [
    "import matplotlib.pyplot as plt\n",
    "import numpy as np"
   ]
  },
  {
   "cell_type": "code",
   "execution_count": 67,
   "id": "486400bc",
   "metadata": {},
   "outputs": [],
   "source": [
    "np.random.seed(404)\n",
    "wins = [0,0,0] # Wins of conservative, switcher, newcomer\n",
    "doors = [0,0,1] # 0 is goat, 1 is car\n",
    "N_runs = 10000"
   ]
  },
  {
   "cell_type": "code",
   "execution_count": 68,
   "id": "8a8bf24b",
   "metadata": {},
   "outputs": [],
   "source": [
    "\n",
    "for i in range(N_runs):\n",
    "    np.random.shuffle(doors) # Uses random.random() function\n",
    "\n",
    "    pl0 = np.random.choice([0,1,2]) #Conservative \n",
    "    pl1 = np.random.choice([0,1,2]) #Switcher\n",
    "\n",
    "    # We can already say if the conservative player won:\n",
    "    if doors[pl0] == 1 :\n",
    "        wins[0] += 1\n",
    "\n",
    "    # After a goat is showed, if the switcher has the car, he loses; if he as the goat, he wins:\n",
    "    if doors[pl1] == 0 : \n",
    "        wins[1] +=1\n",
    "\n",
    "    # After a goat is showed, there are 2 doors, one wins and the other loses, indifferently from what happened before.\n",
    "    # As it does not matter which goat we remove, we choose the first one in the list:\n",
    "    doors = doors[:]\n",
    "    doors.remove(0)\n",
    "\n",
    "    pl2 = np.random.choice([0,1]) #Newcomer\n",
    "\n",
    "    if doors[pl2] == 1:\n",
    "        wins[2] += 1\n",
    "\n",
    "win_perc = [x/N_runs * 100 for x in wins]"
   ]
  },
  {
   "cell_type": "code",
   "execution_count": 70,
   "id": "3dca590f",
   "metadata": {},
   "outputs": [
    {
     "name": "stdout",
     "output_type": "stream",
     "text": [
      "Win percentages: \n",
      "     Conservative: 34.11 %  \n",
      "     Switcher: 66.24 %  \n",
      "     Newcomer 49.95 %\n"
     ]
    }
   ],
   "source": [
    "print('Win percentages: \\n \\\n",
    "    Conservative: %.2f %%  \\n \\\n",
    "    Switcher: %.2f %%  \\n \\\n",
    "    Newcomer %.2f %%' %tuple(win_perc))\n"
   ]
  },
  {
   "cell_type": "markdown",
   "id": "dbaf6cfd",
   "metadata": {},
   "source": [
    "- We obtain the expected probabilities."
   ]
  },
  {
   "cell_type": "markdown",
   "id": "3a137eae",
   "metadata": {},
   "source": [
    "## Generalization to N doors"
   ]
  },
  {
   "cell_type": "code",
   "execution_count": 71,
   "id": "8904f6f7",
   "metadata": {},
   "outputs": [],
   "source": [
    "np.random.seed(403)\n",
    "n_doors = 3\n",
    "n_open = 1\n",
    "\n",
    "wins = [0,0,0] # Wins of conservative, switcher, newcomer\n",
    "\n",
    "N_runs = 1000\n",
    "\n",
    "for i in range(N_runs):\n",
    "    \n",
    "    doors = np.zeros(n_doors) # 0 is goat, 1 is car\n",
    "    doors[0] += 1\n",
    "    np.random.shuffle(doors) # Uses random.random() function\n",
    "    numbers = np.array(range(n_doors)) \n",
    "    doors = doors[:,np.newaxis]\n",
    "    numbers = numbers[:,np.newaxis]\n",
    "    doors = np.concatenate((numbers,doors), axis=1) # now \"doors\" is an array of couples (every door has a label)\n",
    "\n",
    "    pl0 = np.random.choice(range(n_doors)) #Conservative \n",
    "   # pl1 = np.random.choice(range(n_doors)) #Switcher\n",
    "    pl1=2\n",
    "\n",
    "    # We can already say if the conservative player won:\n",
    "    if doors[pl0,1] == 1 :\n",
    "        wins[0] += 1\n",
    "\n",
    "    # n_open doors are opened\n",
    "    doors_new = doors\n",
    "    j = 0\n",
    "    for i in range(n_open):\n",
    "        if doors_new[0,1] == 1 or doors_new[0,0] == pl1:\n",
    "            j = 1\n",
    "        doors_new = np.delete(doors_new, j, 0)\n",
    "\n",
    "    door_choice = doors_new[:,0]\n",
    "\n",
    "    pl1_second = int(np.random.choice(door_choice)) #Switcher's second guess, while cycle to prevent him to choose the same door\n",
    "    k = 0\n",
    "    while pl1_second == pl1: \n",
    "         pl1_second = int(np.random.choice(door_choice))\n",
    "         k += 1\n",
    "\n",
    "    if doors[pl1_second,1] == 1 : \n",
    "        wins[1] +=1\n",
    "\n",
    "\n",
    "    pl2 = int(np.random.choice(door_choice)) #Newcomer\n",
    "\n",
    "    if doors[pl2,1] == 1:\n",
    "        wins[2] += 1\n",
    "\n",
    "win_perc = [x/N_runs * 100 for x in wins]"
   ]
  },
  {
   "cell_type": "code",
   "execution_count": 70,
   "id": "b21c912e",
   "metadata": {},
   "outputs": [
    {
     "name": "stdout",
     "output_type": "stream",
     "text": [
      "Win percentages: \n",
      "     Conservative: 30.00 %  \n",
      "     Switcher: 51.10 %  \n",
      "     Newcomer 44.30 %\n"
     ]
    }
   ],
   "source": [
    "print('Win percentages: \\n \\\n",
    "    Conservative: %.2f %%  \\n \\\n",
    "    Switcher: %.2f %%  \\n \\\n",
    "    Newcomer %.2f %%' %tuple(win_perc))"
   ]
  }
 ],
 "metadata": {
  "kernelspec": {
   "display_name": "Python 3.8.10 64-bit",
   "language": "python",
   "name": "python3"
  },
  "language_info": {
   "codemirror_mode": {
    "name": "ipython",
    "version": 3
   },
   "file_extension": ".py",
   "mimetype": "text/x-python",
   "name": "python",
   "nbconvert_exporter": "python",
   "pygments_lexer": "ipython3",
   "version": "3.8.10"
  },
  "vscode": {
   "interpreter": {
    "hash": "916dbcbb3f70747c44a77c7bcd40155683ae19c65e1c03b4aa3499c5328201f1"
   }
  }
 },
 "nbformat": 4,
 "nbformat_minor": 5
}
